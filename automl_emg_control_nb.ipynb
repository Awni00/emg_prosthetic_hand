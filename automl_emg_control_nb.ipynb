{
 "metadata": {
  "language_info": {
   "codemirror_mode": {
    "name": "ipython",
    "version": 3
   },
   "file_extension": ".py",
   "mimetype": "text/x-python",
   "name": "python",
   "nbconvert_exporter": "python",
   "pygments_lexer": "ipython3",
   "version": "3.6.12"
  },
  "orig_nbformat": 2,
  "kernelspec": {
   "name": "python3",
   "display_name": "Python 3.6.12 64-bit ('neuro': conda)"
  },
  "interpreter": {
   "hash": "61dcfd5c6e12dba2540bc4d26004654ea83c2dbddde464acc3d2b3c8c9c57f13"
  }
 },
 "nbformat": 4,
 "nbformat_minor": 2,
 "cells": [
  {
   "source": [
    "## Setup"
   ],
   "cell_type": "markdown",
   "metadata": {}
  },
  {
   "cell_type": "code",
   "execution_count": 1,
   "metadata": {},
   "outputs": [],
   "source": [
    "import neurol\n",
    "import neurol.connect_device\n",
    "import neurol.BCI\n",
    "import neurol.streams\n",
    "import neurol.plot\n",
    "\n",
    "import serial\n",
    "import pylsl\n",
    "import numpy as np\n",
    "\n",
    "import time"
   ]
  },
  {
   "cell_type": "code",
   "execution_count": 2,
   "metadata": {},
   "outputs": [],
   "source": [
    "close_char = b'0'\n",
    "open_char = b'1'\n",
    "arduino_port = 'com5'"
   ]
  },
  {
   "cell_type": "code",
   "execution_count": 3,
   "metadata": {},
   "outputs": [],
   "source": [
    "def close_hand(arduino_serial):\n",
    "    arduino_serial.write(close_char)\n",
    "\n",
    "def open_hand(arduino_serial):\n",
    "    arduino_serial.write(open_char)"
   ]
  },
  {
   "cell_type": "code",
   "execution_count": 4,
   "metadata": {},
   "outputs": [],
   "source": [
    "def action(state):\n",
    "    '''sends commands to arduino to open or close prosthetic hand'''\n",
    "    if state:\n",
    "        close_hand(arduino)\n",
    "        print('hand closed')\n",
    "    else:\n",
    "        open_hand(arduino)\n",
    "        print('hand open')\n",
    "    \n",
    "    # sleep for 1 second to hold action\n",
    "    time.sleep(1)"
   ]
  },
  {
   "cell_type": "code",
   "execution_count": 5,
   "metadata": {},
   "outputs": [
    {
     "output_type": "stream",
     "name": "stdout",
     "text": [
      "Connecting Arduino\n",
      "b'ready!\\r\\n'\n"
     ]
    }
   ],
   "source": [
    "# connect to arduino via serial port\n",
    "print('Connecting Arduino')\n",
    "arduino = serial.Serial(arduino_port, baudrate=9600)\n",
    "\n",
    "print(arduino.readline()) # \"arduino ready!\""
   ]
  },
  {
   "cell_type": "code",
   "execution_count": 6,
   "metadata": {},
   "outputs": [
    {
     "output_type": "execute_result",
     "data": {
      "text/plain": [
       "b'1: 170 (170), 2: 25 (25)\\r\\n'"
      ]
     },
     "metadata": {},
     "execution_count": 6
    }
   ],
   "source": [
    "close_hand(arduino)\n",
    "arduino.readline()\n",
    "arduino.readline()"
   ]
  },
  {
   "cell_type": "code",
   "execution_count": 7,
   "metadata": {},
   "outputs": [
    {
     "output_type": "execute_result",
     "data": {
      "text/plain": [
       "b'1: 45 (45), 2: 135 (135)\\r\\n'"
      ]
     },
     "metadata": {},
     "execution_count": 7
    }
   ],
   "source": [
    "open_hand(arduino)\n",
    "arduino.readline()\n",
    "arduino.readline()"
   ]
  },
  {
   "cell_type": "code",
   "execution_count": 8,
   "metadata": {},
   "outputs": [],
   "source": [
    "# arduino.close()"
   ]
  },
  {
   "cell_type": "code",
   "execution_count": 9,
   "metadata": {},
   "outputs": [
    {
     "output_type": "stream",
     "name": "stdout",
     "text": [
      "connected to stream 'obci_emg'\n"
     ]
    }
   ],
   "source": [
    "# get EMG signal stream\n",
    "stream_info = neurol.connect_device.resolve_byprop('type', 'EMG')[0]\n",
    "inlet = pylsl.StreamInlet(stream_info)\n",
    "stream  = neurol.streams.lsl_stream(inlet, buffer_length=512)\n",
    "print(f'connected to stream \\'{inlet.info().name()}\\'')\n"
   ]
  },
  {
   "source": [
    "## Collect data and train model"
   ],
   "cell_type": "markdown",
   "metadata": {}
  },
  {
   "cell_type": "code",
   "execution_count": 10,
   "metadata": {},
   "outputs": [],
   "source": [
    "# neurol.plot.plot(stream, channels={0: 'EMG'})"
   ]
  },
  {
   "cell_type": "code",
   "execution_count": 11,
   "metadata": {},
   "outputs": [
    {
     "output_type": "execute_result",
     "data": {
      "text/plain": [
       "4"
      ]
     },
     "metadata": {},
     "execution_count": 11
    }
   ],
   "source": [
    "stream.n_channels"
   ]
  },
  {
   "cell_type": "code",
   "execution_count": 12,
   "metadata": {},
   "outputs": [],
   "source": [
    "def classifier(emg, clb_info):\n",
    "    '''classify if hand is closed'''\n",
    "    return np.average(emg[-20:,0]) > 0.5\n",
    "\n",
    "def classifier2(emg, clb_info):\n",
    "    '''alternate classifier'''\n",
    "    percent_above = np.average(emg[-20:0,0] > 0.5)\n",
    "    return percent_above > 0.5\n",
    "\n",
    "# TODO: try neurol's AutoMLBCI w/ TD-FD transformer"
   ]
  },
  {
   "cell_type": "code",
   "execution_count": 13,
   "metadata": {},
   "outputs": [],
   "source": [
    "# make sure hand is open at start\n",
    "open_hand(arduino)"
   ]
  },
  {
   "cell_type": "code",
   "execution_count": 14,
   "metadata": {},
   "outputs": [],
   "source": [
    "# # create neurol BCI\n",
    "# hand_bci = neurol.BCI.generic_BCI(classifier, transformer, action=action)\n",
    "\n",
    "# # run prosthetic hand BCI\n",
    "# try:\n",
    "#     hand_bci.run(stream)\n",
    "# except KeyboardInterrupt:\n",
    "#     print('\\n\\n\\nQUIT')"
   ]
  },
  {
   "source": [
    "## Define model"
   ],
   "cell_type": "markdown",
   "metadata": {}
  },
  {
   "cell_type": "code",
   "execution_count": 15,
   "metadata": {},
   "outputs": [
    {
     "output_type": "stream",
     "name": "stdout",
     "text": [
      "epoch_len: 100\n"
     ]
    }
   ],
   "source": [
    "epoch_len = int(stream.sampling_rate * 0.5) # 0.5 seconds\n",
    "print(f'epoch_len: {epoch_len}')"
   ]
  },
  {
   "cell_type": "code",
   "execution_count": 16,
   "metadata": {},
   "outputs": [],
   "source": [
    "import tensorflow as tf\n",
    "from tensorflow.keras.layers import Conv1D, Input, Dense, MaxPool1D, Flatten"
   ]
  },
  {
   "cell_type": "code",
   "execution_count": 17,
   "metadata": {},
   "outputs": [],
   "source": [
    "input_ = Input(shape=(epoch_len, 1), name='input_signal')\n",
    "\n",
    "conv1 = Conv1D(5, 3, strides=1, padding='same', name='conv1')(input_)\n",
    "conv2 = Conv1D(5, 3, strides=1, padding='same', name='conv2')(conv1)\n",
    "maxpool1 = MaxPool1D(pool_size=2, padding='valid', name='maxpool1')(conv2)\n",
    "\n",
    "conv3 = Conv1D(5, 5, strides=1, padding='same', name='conv3')(maxpool1)\n",
    "feat_vec = Flatten(name='feat_vec')(maxpool1)\n",
    "\n",
    "output = Dense(2, activation='softmax', name='output')(feat_vec)\n",
    "\n",
    "emg_model_tf = tf.keras.Model(inputs=input_, outputs=[output])"
   ]
  },
  {
   "cell_type": "code",
   "execution_count": 18,
   "metadata": {},
   "outputs": [
    {
     "output_type": "stream",
     "name": "stdout",
     "text": [
      "Model: \"model\"\n_________________________________________________________________\nLayer (type)                 Output Shape              Param #   \n=================================================================\ninput_signal (InputLayer)    [(None, 100, 1)]          0         \n_________________________________________________________________\nconv1 (Conv1D)               (None, 100, 5)            20        \n_________________________________________________________________\nconv2 (Conv1D)               (None, 100, 5)            80        \n_________________________________________________________________\nmaxpool1 (MaxPooling1D)      (None, 50, 5)             0         \n_________________________________________________________________\nfeat_vec (Flatten)           (None, 250)               0         \n_________________________________________________________________\noutput (Dense)               (None, 2)                 502       \n=================================================================\nTotal params: 602\nTrainable params: 602\nNon-trainable params: 0\n_________________________________________________________________\n"
     ]
    }
   ],
   "source": [
    "emg_model_tf.summary()"
   ]
  },
  {
   "cell_type": "code",
   "execution_count": 19,
   "metadata": {},
   "outputs": [],
   "source": [
    "# compile model. sparse_categorical_crossentropy loss used for int labels.\n",
    "emg_model_tf.compile(optimizer='adam', loss='sparse_categorical_crossentropy')"
   ]
  },
  {
   "cell_type": "code",
   "execution_count": 20,
   "metadata": {},
   "outputs": [],
   "source": [
    "n_epochs=100\n",
    "class automl_bci_model:\n",
    "    def __init__(self, tf_model):\n",
    "        self.tf_model = tf_model\n",
    "    \n",
    "    def predict(self, x):\n",
    "        return np.argmax(self.tf_model(x), axis=-1)\n",
    "\n",
    "    def fit(self, X, Y):\n",
    "        self.tf_model.fit(X, Y, epochs=n_epochs, verbose=False)"
   ]
  },
  {
   "cell_type": "code",
   "execution_count": 21,
   "metadata": {},
   "outputs": [],
   "source": [
    "emg_model = automl_bci_model(emg_model_tf)"
   ]
  },
  {
   "cell_type": "code",
   "execution_count": 22,
   "metadata": {},
   "outputs": [],
   "source": [
    "def transformer(buffer):\n",
    "    '''returns the EMG channel'''\n",
    "    return buffer[-epoch_len:,0][:, np.newaxis]"
   ]
  },
  {
   "source": [
    "## Define AutoML BCI"
   ],
   "cell_type": "markdown",
   "metadata": {}
  },
  {
   "cell_type": "code",
   "execution_count": 23,
   "metadata": {},
   "outputs": [],
   "source": [
    "automl_hand_bci = neurol.BCI.automl_BCI(emg_model, epoch_len=epoch_len, n_states=2, transformer=transformer, action=action)"
   ]
  },
  {
   "cell_type": "code",
   "execution_count": 24,
   "metadata": {},
   "outputs": [
    {
     "output_type": "stream",
     "name": "stdout",
     "text": [
      "Recording for 20 seconds...\n",
      "Recording for 20 seconds...\n",
      "Done! \n",
      "\n",
      "Performance on training data: \n",
      "              precision    recall  f1-score   support\n",
      "\n",
      "         0.0       1.00      1.00      1.00       157\n",
      "         1.0       1.00      1.00      1.00       156\n",
      "\n",
      "    accuracy                           1.00       313\n",
      "   macro avg       1.00      1.00      1.00       313\n",
      "weighted avg       1.00      1.00      1.00       313\n",
      "\n",
      "Performance on test data: \n",
      "              precision    recall  f1-score   support\n",
      "\n",
      "         0.0       0.82      0.85      0.84        39\n",
      "         1.0       0.85      0.82      0.84        40\n",
      "\n",
      "    accuracy                           0.84        79\n",
      "   macro avg       0.84      0.84      0.84        79\n",
      "weighted avg       0.84      0.84      0.84        79\n",
      "\n"
     ]
    }
   ],
   "source": [
    "automl_hand_bci.build_model(stream, 20)"
   ]
  },
  {
   "source": [
    "## Run AutoML BCI"
   ],
   "cell_type": "markdown",
   "metadata": {}
  },
  {
   "cell_type": "code",
   "execution_count": 25,
   "metadata": {},
   "outputs": [],
   "source": [
    "# make sure hand is open at start\n",
    "open_hand(arduino)"
   ]
  },
  {
   "cell_type": "code",
   "execution_count": 26,
   "metadata": {
    "tags": []
   },
   "outputs": [
    {
     "output_type": "stream",
     "name": "stdout",
     "text": [
      "hand closed\n",
      "hand closed\n",
      "hand closed\n",
      "hand closed\n",
      "hand open\n",
      "hand open\n",
      "hand closed\n",
      "hand closed\n",
      "hand open\n",
      "hand closed\n",
      "hand open\n",
      "hand closed\n",
      "hand closed\n",
      "hand closed\n",
      "hand open\n",
      "hand closed\n",
      "hand open\n",
      "hand closed\n",
      "hand closed\n",
      "hand open\n",
      "hand closed\n",
      "hand closed\n",
      "hand closed\n",
      "hand closed\n",
      "hand closed\n",
      "hand closed\n",
      "hand open\n",
      "hand open\n",
      "hand closed\n",
      "hand closed\n",
      "hand open\n",
      "hand open\n",
      "hand closed\n",
      "hand closed\n",
      "hand open\n",
      "hand closed\n",
      "hand closed\n",
      "hand closed\n",
      "hand open\n",
      "hand closed\n",
      "hand closed\n",
      "hand closed\n",
      "hand closed\n",
      "hand closed\n",
      "hand closed\n",
      "hand closed\n",
      "hand closed\n",
      "hand open\n",
      "hand closed\n",
      "hand closed\n",
      "hand closed\n",
      "hand closed\n",
      "hand closed\n",
      "hand closed\n",
      "hand open\n",
      "hand open\n",
      "hand closed\n",
      "hand open\n",
      "hand closed\n",
      "hand open\n",
      "hand open\n",
      "hand closed\n",
      "hand closed\n",
      "hand open\n",
      "hand open\n",
      "hand open\n",
      "hand closed\n",
      "hand closed\n",
      "hand closed\n",
      "hand open\n",
      "hand closed\n",
      "hand open\n",
      "hand open\n",
      "hand open\n",
      "hand open\n",
      "hand closed\n",
      "hand closed\n",
      "hand closed\n",
      "\n",
      "\n",
      "\n",
      "QUIT\n"
     ]
    }
   ],
   "source": [
    "# run prosthetic hand BCI\n",
    "try:\n",
    "    automl_hand_bci.run(stream)\n",
    "except KeyboardInterrupt:\n",
    "    print('\\n\\n\\nQUIT')"
   ]
  },
  {
   "cell_type": "code",
   "execution_count": 27,
   "metadata": {},
   "outputs": [],
   "source": [
    "open_hand(arduino)"
   ]
  }
 ]
}